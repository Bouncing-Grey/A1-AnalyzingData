{
 "cells": [
  {
   "cell_type": "markdown",
   "metadata": {
    "id": "rbgjVp6BXGCT"
   },
   "source": [
    "\n",
    "# **Assignment 1-Wang Mengyun-S5715407**\n",
    "\n",
    "\n",
    "## Task 1. Correlation\n",
    "We will use the data example from the textbook \"Statistical Analysis with The General Linear Model\" by Miller and Haden (2013), Chapter 11.\n",
    "\n",
    "As in Miller and Haden, we have five columns:\n",
    "\n",
    "-Participant (Participant),\n",
    "\n",
    "-Reading Ability (Abil),\n",
    "\n",
    "-Intelligence (IQ),\n",
    "\n",
    "-Number of minutes spent reading at home per week (Home),\n",
    "\n",
    "-Number of minutes spent watching TV per week (TV).\n",
    "\n",
    "\n",
    "For the task we will focus on the relationship between Reading Ability and IQ, but for further practice you can look at other relationships on your own."
   ]
  },
  {
   "cell_type": "markdown",
   "metadata": {
    "id": "Z4cXzKORYFaD"
   },
   "source": [
    "**Question 1**:\n",
    "\n",
    "a. Check whether the data is interval, ratio, or ordinal.\n",
    "\n",
    "b. Check whether there is a data point for each participant on both variables.\n",
    "\n",
    "c. Check whether the data is normally distributed in both variables.\n",
    "\n",
    "d. Create a scatter plot with Reading Ability being the x-axis and IQ, being the y-axis.\n",
    "\n",
    "e. Draw a correlation line on the scatter plot.\n",
    "\n",
    "\n",
    "**Instructions:**\n",
    "\n",
    "1. Load the necessary libraries and explain why you need them (\"#used for ...\").\n",
    "\n",
    "2. Read the MillerHadenData.csv file into a DataFrame and name it \"df_mh\"."
   ]
  },
  {
   "cell_type": "code",
   "execution_count": 72,
   "metadata": {
    "id": "140M8Z4qYn_G"
   },
   "outputs": [],
   "source": [
    "import pandas as pd # used for data wrangling\n",
    "import seaborn as sns # used for visualization\n",
    "import matplotlib  # used for plotting\n",
    "from matplotlib import pyplot as plt # used for creating complex plots in a MATLAB-like interface\n",
    "import pylab # used for quick and easy figure, subplot, and chart creation\n",
    "import pingouin as pg # used for statistical analysis\n",
    "\n",
    "df_mh = pd.read_csv('MillerHadenData.csv')"
   ]
  },
  {
   "cell_type": "code",
   "execution_count": 73,
   "metadata": {
    "id": "rwqidw5q2D1n"
   },
   "outputs": [
    {
     "data": {
      "text/html": [
       "<div>\n",
       "<style scoped>\n",
       "    .dataframe tbody tr th:only-of-type {\n",
       "        vertical-align: middle;\n",
       "    }\n",
       "\n",
       "    .dataframe tbody tr th {\n",
       "        vertical-align: top;\n",
       "    }\n",
       "\n",
       "    .dataframe thead th {\n",
       "        text-align: right;\n",
       "    }\n",
       "</style>\n",
       "<table border=\"1\" class=\"dataframe\">\n",
       "  <thead>\n",
       "    <tr style=\"text-align: right;\">\n",
       "      <th></th>\n",
       "      <th>Participant</th>\n",
       "      <th>Abil</th>\n",
       "      <th>IQ</th>\n",
       "      <th>Home</th>\n",
       "      <th>TV</th>\n",
       "    </tr>\n",
       "  </thead>\n",
       "  <tbody>\n",
       "    <tr>\n",
       "      <th>0</th>\n",
       "      <td>1</td>\n",
       "      <td>61</td>\n",
       "      <td>107</td>\n",
       "      <td>144</td>\n",
       "      <td>487</td>\n",
       "    </tr>\n",
       "    <tr>\n",
       "      <th>1</th>\n",
       "      <td>2</td>\n",
       "      <td>56</td>\n",
       "      <td>109</td>\n",
       "      <td>123</td>\n",
       "      <td>608</td>\n",
       "    </tr>\n",
       "    <tr>\n",
       "      <th>2</th>\n",
       "      <td>3</td>\n",
       "      <td>45</td>\n",
       "      <td>81</td>\n",
       "      <td>108</td>\n",
       "      <td>640</td>\n",
       "    </tr>\n",
       "    <tr>\n",
       "      <th>3</th>\n",
       "      <td>4</td>\n",
       "      <td>66</td>\n",
       "      <td>100</td>\n",
       "      <td>155</td>\n",
       "      <td>493</td>\n",
       "    </tr>\n",
       "    <tr>\n",
       "      <th>4</th>\n",
       "      <td>5</td>\n",
       "      <td>49</td>\n",
       "      <td>92</td>\n",
       "      <td>103</td>\n",
       "      <td>636</td>\n",
       "    </tr>\n",
       "  </tbody>\n",
       "</table>\n",
       "</div>"
      ],
      "text/plain": [
       "   Participant  Abil   IQ  Home   TV\n",
       "0            1    61  107   144  487\n",
       "1            2    56  109   123  608\n",
       "2            3    45   81   108  640\n",
       "3            4    66  100   155  493\n",
       "4            5    49   92   103  636"
      ]
     },
     "execution_count": 73,
     "metadata": {},
     "output_type": "execute_result"
    }
   ],
   "source": [
    "# Q1a (code):\n",
    "# Display first few rows of the dataframe\n",
    "df_mh.head()"
   ]
  },
  {
   "cell_type": "code",
   "execution_count": 74,
   "metadata": {},
   "outputs": [
    {
     "name": "stdout",
     "output_type": "stream",
     "text": [
      "<class 'pandas.core.frame.DataFrame'>\n",
      "RangeIndex: 25 entries, 0 to 24\n",
      "Data columns (total 5 columns):\n",
      " #   Column       Non-Null Count  Dtype\n",
      "---  ------       --------------  -----\n",
      " 0   Participant  25 non-null     int64\n",
      " 1   Abil         25 non-null     int64\n",
      " 2   IQ           25 non-null     int64\n",
      " 3   Home         25 non-null     int64\n",
      " 4   TV           25 non-null     int64\n",
      "dtypes: int64(5)\n",
      "memory usage: 1.1 KB\n"
     ]
    }
   ],
   "source": [
    "# Check data types and information\n",
    "df_mh.info()"
   ]
  },
  {
   "cell_type": "code",
   "execution_count": 75,
   "metadata": {
    "id": "Edd9mYgi2Jar"
   },
   "outputs": [
    {
     "name": "stdout",
     "output_type": "stream",
     "text": [
      "Missing values in each column:\n",
      "Participant    0\n",
      "Abil           0\n",
      "IQ             0\n",
      "Home           0\n",
      "TV             0\n",
      "dtype: int64\n",
      "Number of participants with missing data in Reading Ability or IQ:\n",
      "0\n"
     ]
    }
   ],
   "source": [
    "# Q1b (code):\n",
    "# Check for missing values\n",
    "# Source for \"df.isnull().sum()\": https://realpython.com/python-data-cleaning-numpy-pandas/\n",
    "missing_values = df_mh.isnull().sum()\n",
    "\n",
    "# Print the number of missing values for each column\n",
    "print('Missing values in each column:')\n",
    "print(missing_values)\n",
    "\n",
    "# Check whether there is a data point for each participant on both variables\n",
    "# Source for \"df.isnull().any(axis=1)\": https://note.nkmk.me/en/python-pandas-nan-extract/\n",
    "reading_iq_missing = df_mh[['Abil', 'IQ']].isnull().any(axis=1)\n",
    "# Print the number of participants with missing data in Reading Ability or IQ\n",
    "print('Number of participants with missing data in Reading Ability or IQ:')\n",
    "print(reading_iq_missing.sum())"
   ]
  },
  {
   "cell_type": "code",
   "execution_count": 76,
   "metadata": {
    "id": "3ALe0fjr2K5h",
    "scrolled": true
   },
   "outputs": [
    {
     "data": {
      "image/png": "[encoded data removed]",
      "text/plain": [
       "<Figure size 640x480 with 1 Axes>"
      ]
     },
     "metadata": {},
     "output_type": "display_data"
    },
    {
     "data": {
      "image/png": "[encoded data removed]",
      "text/plain": [
       "<Figure size 640x480 with 1 Axes>"
      ]
     },
     "metadata": {},
     "output_type": "display_data"
    }
   ],
   "source": [
    "# Q1c (code):\n",
    "# Check data distribution\n",
    "\n",
    "# Define the list of variables for plotting distribution\n",
    "variables = ['Abil', 'IQ']\n",
    "# Make a histogram for each variable\n",
    "for variable in variables:\n",
    "    df_mh[variable].hist()  # Plotting\n",
    "    plt.title(f'Distribution of {variable}')  # Set the title\n",
    "    plt.xlabel(variable)  # Label the x-axis\n",
    "    plt.ylabel('Frequency')  # Label the y-axis\n",
    "    plt.show()"
   ]
  },
  {
   "cell_type": "code",
   "execution_count": 77,
   "metadata": {
    "id": "xaQ300fY2MPe"
   },
   "outputs": [
    {
     "data": {
      "image/png": "[encoded data removed]",
      "text/plain": [
       "<Figure size 640x480 with 1 Axes>"
      ]
     },
     "metadata": {},
     "output_type": "display_data"
    }
   ],
   "source": [
    "# Q1d (code):\n",
    "# Scatter plot\n",
    "plt.scatter(df_mh['Abil'], df_mh['IQ'])  # Create scatter plot\n",
    "plt.title('Scatter Plot of Reading Ability vs. IQ')  # Set the title of the plot\n",
    "plt.xlabel('Reading Ability (Abil)')  # Set the x-axis label\n",
    "plt.ylabel('Intelligence Quotient (IQ)')  # Set the y-axis label\n",
    "plt.show()  "
   ]
  },
  {
   "cell_type": "code",
   "execution_count": 78,
   "metadata": {
    "id": "Zpkwqc382N06"
   },
   "outputs": [
    {
     "data": {
      "image/png": "[encoded data removed]",
      "text/plain": [
       "<Figure size 640x480 with 1 Axes>"
      ]
     },
     "metadata": {},
     "output_type": "display_data"
    }
   ],
   "source": [
    "# Q1e (code):\n",
    "# Correlation line\n",
    "\n",
    "# Use Seaborn's regplot to plot the scatter plot and add the regression line\n",
    "sns.regplot(x='Abil', y='IQ', data=df_mh)\n",
    "# Add title to the plot\n",
    "plt.title('Scatter Plot with Correlation Line: Reading Ability vs IQ')\n",
    "# Show the plot\n",
    "plt.show()"
   ]
  },
  {
   "cell_type": "markdown",
   "metadata": {
    "id": "tKtW2diqZq1S"
   },
   "source": [
    "**Question 2**:\n",
    "\n",
    "a. Which correlation coefficient test can we use, Pearson or Spearman? Briefly explian why based on the results of Question 1.\n",
    "\n",
    "b. Conduct a correlation coefficient test.\n",
    "\n",
    "c. Interpret the result (direction and strength of the association between the two varibles)"
   ]
  },
  {
   "cell_type": "markdown",
   "metadata": {
    "id": "t5GRVxHwaKIS"
   },
   "source": [
    "# Q2a (answer with words):\n",
    "\"Spearman. It is because reading ability and IQ are not normally distributed.\""
   ]
  },
  {
   "cell_type": "code",
   "execution_count": 80,
   "metadata": {
    "id": "LTSp6xMFaKgf",
    "scrolled": true
   },
   "outputs": [
    {
     "name": "stdout",
     "output_type": "stream",
     "text": [
      "Spearman Correlation Coefficient: 0.441\n",
      "P-value: 0.027\n",
      "The observed differences are statiscally significant - H0 is rejected\n"
     ]
    }
   ],
   "source": [
    "# Q2b (code):\n",
    "# Calculate Spearman coefficient \n",
    "\n",
    "# H0: There is no correlation between 'Abil' and 'IQ' \n",
    "from scipy.stats import spearmanr \n",
    "spearman_corr, p = spearmanr(df_mh['Abil'], df_mh['IQ'])\n",
    "\n",
    "# Print the result rounded to three decimal places\n",
    "print(f'Spearman Correlation Coefficient: {spearman_corr:.3f}')\n",
    "print(f'P-value: {p:.3f}')\n",
    "\n",
    "# Interpret the p-value:\n",
    "if p < 0.05:\n",
    "    print('The observed differences are statiscally significant - H0 is rejected')\n",
    "else:\n",
    "    print('The observed differences are not statiscally significant - H1 is rejected')"
   ]
  },
  {
   "cell_type": "markdown",
   "metadata": {
    "id": "m_3aCSG7ylFJ"
   },
   "source": [
    "### Q2c (answer with words):\n",
    "**Direction of the Association**: The correlation coefficient of 0.441indicates a positive association between the two variables. This means that as one variable increases, the other variable tends to increase as well.\n",
    "\n",
    "**Strength of the Association**: With respect to the strength of the association, 0.441can be considered a moderate positive correlation. It is not weak, but it is also not a strong correlation.\n",
    "\n",
    "**Statistical Significance**: The p-value of 0.0272 is less than the common alpha level of 0.05, which suggests that H0 could be rejected and the correlation observed is statistically significant. In other words, there is only a 2.72% probability that the observed association is due to random chance, and hence, it is unlikely that the positive correlation occurred by chance.\n",
    "\n",
    "**Conclusion**: It can be reasonably confident that there is a statistically significant moderate positive association between reading ability and IQ in the sample that was tested."
   ]
  },
  {
   "cell_type": "markdown",
   "metadata": {
    "id": "mogdaz8P27oU"
   },
   "source": [
    "## Task 2. Chi-square Test\n",
    "We will continue to use the data example from Task 1.\n",
    "\n",
    "We want to explore whether there are significant differences in the amount of time spent reading at home per week (Home) among people with different reading abilities (Reading Ability). Therefore, we will divide the reading ability of all participants into two groups. The first group is those with low reading ability (Reading Ability at or below the rounded average), and the second group is those with high reading ability (Reading Ability above the rounded average). We will store this grouping in a new column named \"Rank_Abil\".\n",
    "\n",
    "\n",
    "Similarly, the reading time is divided into two different scenarios: the first scenario is infrequent reading (Home at or below the rounded average), and the other is frequent reading (Reading Ability above the rounded average). We will store this grouping in a new column named \"Rank_Home\".\n",
    "\n",
    "\n",
    "Then, construct a Contingency Matrix and perform a Chi-square test.\n",
    "\n",
    "**Question 3**:\n",
    "\n",
    "a. Please state the null hypothesis (H0) and alternative hypothesis (H1) for this Chi-square test.\n",
    "\n",
    "b. Based on the task description, add new columns “Rank_Abil” and \"Rank_Home\" to the dataframe df_mh.\n",
    "\n",
    "c. Construct a Contingency Matrix.\n",
    "\n",
    "d. Perform a Chi-square test.\n",
    "\n",
    "e. Interpret the results of the Chi-square test (answer in text)."
   ]
  },
  {
   "cell_type": "code",
   "execution_count": 81,
   "metadata": {
    "id": "tIKHfEwG-Pte"
   },
   "outputs": [],
   "source": [
    "# Q3a (answer in words):\n",
    "# H0: There is no association between time spent reading at home and reading ability\n",
    "# H1: There is an association between time spent reading at home and reading ability"
   ]
  },
  {
   "cell_type": "code",
   "execution_count": 82,
   "metadata": {
    "id": "nlO-hmq2-V2Z"
   },
   "outputs": [
    {
     "data": {
      "text/html": [
       "<div>\n",
       "<style scoped>\n",
       "    .dataframe tbody tr th:only-of-type {\n",
       "        vertical-align: middle;\n",
       "    }\n",
       "\n",
       "    .dataframe tbody tr th {\n",
       "        vertical-align: top;\n",
       "    }\n",
       "\n",
       "    .dataframe thead th {\n",
       "        text-align: right;\n",
       "    }\n",
       "</style>\n",
       "<table border=\"1\" class=\"dataframe\">\n",
       "  <thead>\n",
       "    <tr style=\"text-align: right;\">\n",
       "      <th></th>\n",
       "      <th>Participant</th>\n",
       "      <th>Abil</th>\n",
       "      <th>IQ</th>\n",
       "      <th>Home</th>\n",
       "      <th>TV</th>\n",
       "      <th>Rank_Abil</th>\n",
       "      <th>Rank_Home</th>\n",
       "    </tr>\n",
       "  </thead>\n",
       "  <tbody>\n",
       "    <tr>\n",
       "      <th>0</th>\n",
       "      <td>1</td>\n",
       "      <td>61</td>\n",
       "      <td>107</td>\n",
       "      <td>144</td>\n",
       "      <td>487</td>\n",
       "      <td>High</td>\n",
       "      <td>Frequent</td>\n",
       "    </tr>\n",
       "    <tr>\n",
       "      <th>1</th>\n",
       "      <td>2</td>\n",
       "      <td>56</td>\n",
       "      <td>109</td>\n",
       "      <td>123</td>\n",
       "      <td>608</td>\n",
       "      <td>High</td>\n",
       "      <td>Infrequent</td>\n",
       "    </tr>\n",
       "    <tr>\n",
       "      <th>2</th>\n",
       "      <td>3</td>\n",
       "      <td>45</td>\n",
       "      <td>81</td>\n",
       "      <td>108</td>\n",
       "      <td>640</td>\n",
       "      <td>Low</td>\n",
       "      <td>Infrequent</td>\n",
       "    </tr>\n",
       "    <tr>\n",
       "      <th>3</th>\n",
       "      <td>4</td>\n",
       "      <td>66</td>\n",
       "      <td>100</td>\n",
       "      <td>155</td>\n",
       "      <td>493</td>\n",
       "      <td>High</td>\n",
       "      <td>Frequent</td>\n",
       "    </tr>\n",
       "    <tr>\n",
       "      <th>4</th>\n",
       "      <td>5</td>\n",
       "      <td>49</td>\n",
       "      <td>92</td>\n",
       "      <td>103</td>\n",
       "      <td>636</td>\n",
       "      <td>Low</td>\n",
       "      <td>Infrequent</td>\n",
       "    </tr>\n",
       "  </tbody>\n",
       "</table>\n",
       "</div>"
      ],
      "text/plain": [
       "   Participant  Abil   IQ  Home   TV Rank_Abil   Rank_Home\n",
       "0            1    61  107   144  487      High    Frequent\n",
       "1            2    56  109   123  608      High  Infrequent\n",
       "2            3    45   81   108  640       Low  Infrequent\n",
       "3            4    66  100   155  493      High    Frequent\n",
       "4            5    49   92   103  636       Low  Infrequent"
      ]
     },
     "execution_count": 82,
     "metadata": {},
     "output_type": "execute_result"
    }
   ],
   "source": [
    "# Q3b (code):\n",
    "# Import necessary libraries\n",
    "import pandas as pd  # used for data analysis\n",
    "from scipy.stats import chi2_contingency # used for performing the Chi-square test\n",
    "\n",
    "# Define the rounded average for Reading Ability and Home\n",
    "average_abil = round(df_mh['Abil'].mean())\n",
    "average_home = round(df_mh['Home'].mean())\n",
    "\n",
    "# Create the Rank_Abil column based on the mean of 'Reading Ability' (Abil)\n",
    "# Source for the combination of \".apply() and lambda expression\": https://stackoverflow.com/questions/69235288/using-lambda-with-apply-in-pandas\n",
    "df_mh['Rank_Abil'] = df_mh['Abil'].apply(lambda x: 'Low' if x <= average_abil else 'High')\n",
    "\n",
    "# Create the Rank_Home column based on the mean number of minutes spent reading at home per week ('Home')\n",
    "df_mh['Rank_Home'] = df_mh['Home'].apply(lambda x: 'Infrequent' if x <= average_home else 'Frequent')\n",
    "\n",
    "df_mh.head()"
   ]
  },
  {
   "cell_type": "code",
   "execution_count": 83,
   "metadata": {
    "id": "jjtp4cm4-Y36"
   },
   "outputs": [
    {
     "name": "stdout",
     "output_type": "stream",
     "text": [
      "Rank_Home  Frequent  Infrequent\n",
      "Rank_Abil                      \n",
      "High              8           2\n",
      "Low               3          12\n"
     ]
    }
   ],
   "source": [
    "# Q3c (code):\n",
    "# Construct Contingency Matrix\n",
    "contingency_matrix = pd.crosstab(df_mh['Rank_Abil'], df_mh['Rank_Home'])\n",
    "# Show Contingency Matrix\n",
    "print(contingency_matrix)"
   ]
  },
  {
   "cell_type": "code",
   "execution_count": 84,
   "metadata": {
    "id": "gyDS8hq2-bmx"
   },
   "outputs": [
    {
     "name": "stdout",
     "output_type": "stream",
     "text": [
      "Chi-square statistic: 6.500\n",
      "P-value: 0.011\n",
      "Degrees of freedom: 1\n",
      "Expected frequencies:\n",
      " [[4.4 5.6]\n",
      " [6.6 8.4]]\n",
      "The observed differences are statiscally significant - H0 is rejected\n"
     ]
    }
   ],
   "source": [
    "# Q3d (code):\n",
    "# Perform the Chi-square test\n",
    "import scipy.stats as stats\n",
    "chi2, p, dof, expected = stats.chi2_contingency(contingency_matrix)\n",
    "    \n",
    "# Print the result rounded to three decimal places\n",
    "print(f'Chi-square statistic: {chi2:.3f}')\n",
    "print(f'P-value: {p:.3f}')\n",
    "print(f'Degrees of freedom: {dof}')\n",
    "print(f'Expected frequencies:\\n {expected}')\n",
    "\n",
    "# Interpret the p-value:\n",
    "if p < 0.05:\n",
    "    print('The observed differences are statiscally significant - H0 is rejected')\n",
    "else:\n",
    "    print('The observed differences are not statiscally significant - H1 is rejected')"
   ]
  },
  {
   "cell_type": "markdown",
   "metadata": {
    "id": "fj0gW0pS-dN5"
   },
   "source": [
    "### Q3e (answer in words):\n",
    "**Explanation**：The p-value is less than 0.05, therefore we can reject the null hypothesis, which means there is sufficient evidence to indicate a significant association between reading time at home and reading ability."
   ]
  },
  {
   "cell_type": "markdown",
   "metadata": {
    "id": "FgYRxqqpaUIk"
   },
   "source": [
    "## Task 3. Two-sample t-test\n",
    "As we discussed on Week 3, Two-sample designs are very useful when we want to know whether there is a difference between groups on a particular variable.\n",
    "\n",
    "In this assignment, you will be guided to replicate the Experiment 4 (p. 887-888) from the paper below, focusing on understanding the data through descriptive statistics, visualizing distributions, testing assumptions (normality and variance homogeneity), and finally performing the independent t-test.\n",
    "\n",
    "Schroeder, J. and Epley, N. (2015). The sound of intellect: Speech reveals a thoughtful mind, increasing a job candidate's appeal. Psychological Science, 26, 277--891.\n",
    "\n",
    "\n",
    "As we explained during Week 3 lecture, there are different types of two-sample designs depending on whether or not the two groups are independent (e.g., different participants in different conditions) or not (e.g., same participants in different conditions). In this course we focus on independent samples, which typically means that the observations in the two groups are unrelated - usually meaning different people. But in real practice you will need to go through similar procedures to determine which is the proper statistical test to use.\n",
    "\n",
    "\n",
    "\n",
    "\n",
    "### Background of data: Speech as indicator of intellect\n",
    "To recap on Experiment 4, 39 professional recruiters from Fortune 500 companies evaluated job pitches of M.B.A. candidates (Masters in Business Administration) from the University of Chicago Booth School of Business. The methods and results appear on pages 887--889 of the article if you want to look at them specifically for more details."
   ]
  },
  {
   "cell_type": "markdown",
   "metadata": {
    "id": "vIc57Glgn5Bb"
   },
   "source": [
    "### Step 1: Analyze the demographics of evaluators from the provided dataset\n",
    "\n",
    "**Instructions:**\n",
    "\n",
    "1. Load the necessary libraries (pandas, scipy, numpy, matplotlib.pyplot, seaborn) and explain why you need them (\"#used for ...\").\n",
    "\n",
    "2. Read the evaluators.csv file into a DataFrame.\n",
    "\n",
    "3. Calculate the mean and standard deviation of the age of the evaluators, handling missing values appropriately.\n",
    "\n",
    "4. Count how many male and female evaluators were in the study.\n",
    "\n",
    "**Question 4:**\n",
    "\n",
    "a. What was the mean age of the evaluators?\n",
    "What was the standard deviation of the age of the evaluators?\n",
    "\n",
    "b. How many participants were female and how many participants were male?\n"
   ]
  },
  {
   "cell_type": "code",
   "execution_count": 89,
   "metadata": {
    "id": "RgnTye-yojyH"
   },
   "outputs": [
    {
     "data": {
      "text/html": [
       "<div>\n",
       "<style scoped>\n",
       "    .dataframe tbody tr th:only-of-type {\n",
       "        vertical-align: middle;\n",
       "    }\n",
       "\n",
       "    .dataframe tbody tr th {\n",
       "        vertical-align: top;\n",
       "    }\n",
       "\n",
       "    .dataframe thead th {\n",
       "        text-align: right;\n",
       "    }\n",
       "</style>\n",
       "<table border=\"1\" class=\"dataframe\">\n",
       "  <thead>\n",
       "    <tr style=\"text-align: right;\">\n",
       "      <th></th>\n",
       "      <th>eval_id</th>\n",
       "      <th>condition</th>\n",
       "      <th>age</th>\n",
       "      <th>sex</th>\n",
       "    </tr>\n",
       "  </thead>\n",
       "  <tbody>\n",
       "    <tr>\n",
       "      <th>0</th>\n",
       "      <td>1</td>\n",
       "      <td>listened</td>\n",
       "      <td>29.0</td>\n",
       "      <td>2.0</td>\n",
       "    </tr>\n",
       "    <tr>\n",
       "      <th>1</th>\n",
       "      <td>2</td>\n",
       "      <td>listened</td>\n",
       "      <td>27.0</td>\n",
       "      <td>2.0</td>\n",
       "    </tr>\n",
       "    <tr>\n",
       "      <th>2</th>\n",
       "      <td>3</td>\n",
       "      <td>listened</td>\n",
       "      <td>27.0</td>\n",
       "      <td>2.0</td>\n",
       "    </tr>\n",
       "    <tr>\n",
       "      <th>3</th>\n",
       "      <td>4</td>\n",
       "      <td>read</td>\n",
       "      <td>40.0</td>\n",
       "      <td>2.0</td>\n",
       "    </tr>\n",
       "    <tr>\n",
       "      <th>4</th>\n",
       "      <td>5</td>\n",
       "      <td>read</td>\n",
       "      <td>32.0</td>\n",
       "      <td>2.0</td>\n",
       "    </tr>\n",
       "  </tbody>\n",
       "</table>\n",
       "</div>"
      ],
      "text/plain": [
       "   eval_id condition   age  sex\n",
       "0        1  listened  29.0  2.0\n",
       "1        2  listened  27.0  2.0\n",
       "2        3  listened  27.0  2.0\n",
       "3        4      read  40.0  2.0\n",
       "4        5      read  32.0  2.0"
      ]
     },
     "execution_count": 89,
     "metadata": {},
     "output_type": "execute_result"
    }
   ],
   "source": [
    "import pandas as pd # used for data analysis\n",
    "from scipy import stats # used for statistical tests\n",
    "import numpy as np #sed for numerical computing\n",
    "import matplotlib.pyplot as plt # used for plotting\n",
    "import seaborn as sns # used for plotting more attractive graphics\n",
    "\n",
    "# Load the data\n",
    "df_evaluators = pd.read_csv('evaluators.csv')\n",
    "df_evaluators.head()"
   ]
  },
  {
   "cell_type": "code",
   "execution_count": 90,
   "metadata": {
    "id": "eDw0XnX3BRhe"
   },
   "outputs": [
    {
     "name": "stdout",
     "output_type": "stream",
     "text": [
      "The mean age is: 30.853\n",
      "The standard deviation of age is: 6.238\n"
     ]
    }
   ],
   "source": [
    "# Q4a (code):\n",
    "# Calculate mean and standard deviation for age\n",
    "\n",
    "# Mean\n",
    "mean_age = df_evaluators['age'].mean()\n",
    "\n",
    "# STD\n",
    "std_dev_age = df_evaluators['age'].std()\n",
    "\n",
    "# Print the result rounded to three decimal places\n",
    "print(f'The mean age is: {mean_age:.3f}')\n",
    "print(f'The standard deviation of age is: {std_dev_age:.3f}')"
   ]
  },
  {
   "cell_type": "markdown",
   "metadata": {
    "id": "KK-MdZfdpDI3"
   },
   "source": [
    "### Step 2: Calculate overall intellect ratings from evaluators and prepare a combined dataset for analysis\n",
    "\n",
    "We are now going to calculate an overall intellect rating given by each evaluator. To break that down a bit, we are going to calculate how intellectual the evaluators (the raters) thought candidates were overall, depending on whether the evaluators read or listened to the candidates' resume pitches. This is calculated by averaging the ratings of competent, thoughtful and intelligent for each evaluator held within ratings.csv.\n",
    "\n",
    "Note: We are not looking at ratings to individual candidates; we are looking at overall ratings for each evaluator. This is a bit confusing but makes sense if you stop to think about it a little. You can think about it in terms of \"do raters rate differently depending on whether they read or listen to a resume pitch\".\n",
    "We will then combine the overall intellect rating with the overall impression ratings and overall hire ratings for each evaluator, all ready found in ratings.csv. In the end we will have a new new dataframe named \"ratings2\" - which has the below structure:\n",
    "\n",
    "**eval_id** shows the evaluator ID. Each evaluator has a different ID. So all the 1's are the same evaluator.\n",
    "\n",
    "**Category** shows the scale that they were rating on - intellect, hire, impression\n",
    "\n",
    "**Rating** shows the overall rating given by that evaluator on a given scale.\n",
    "\n",
    "**condition** shows whether that evaluator listened to (e.g., evaluators 1, 2 and 3), or read (e.g., evaluator 4) the resume.\n",
    "\n",
    "\n",
    "**Instructions:**\n",
    "\n",
    "1. Load the ratings.csv file.\n",
    "\n",
    "2. Filter and calculate the mean intellect rating for each evaluator.\n",
    "\n",
    "3. Combine this with overall impression and hire ratings to create a new DataFrame named \"rating2\".\n",
    "\n",
    "4. Merge this DataFrame with the evaluator demographics.\n",
    "\n",
    "**Question 5**:\n",
    "\n",
    "Print the head of \"rating2\".\n"
   ]
  },
  {
   "cell_type": "code",
   "execution_count": 91,
   "metadata": {
    "id": "I0tU57R5ufRI"
   },
   "outputs": [
    {
     "data": {
      "text/plain": [
       "sex\n",
       "2.0    30\n",
       "1.0     4\n",
       "Name: count, dtype: int64"
      ]
     },
     "execution_count": 91,
     "metadata": {},
     "output_type": "execute_result"
    }
   ],
   "source": [
    "# Q4b (code)\n",
    "# Count male and female evaluators\n",
    "# In the 'sex' column: 1 represents males and 2 represents females\n",
    "\n",
    "# Count the number of each sex\n",
    "sex_counts = df_evaluators['sex'].value_counts()\n",
    "sex_counts"
   ]
  },
  {
   "cell_type": "code",
   "execution_count": 92,
   "metadata": {
    "id": "l85NzSC-pj57"
   },
   "outputs": [
    {
     "data": {
      "text/html": [
       "<div>\n",
       "<style scoped>\n",
       "    .dataframe tbody tr th:only-of-type {\n",
       "        vertical-align: middle;\n",
       "    }\n",
       "\n",
       "    .dataframe tbody tr th {\n",
       "        vertical-align: top;\n",
       "    }\n",
       "\n",
       "    .dataframe thead th {\n",
       "        text-align: right;\n",
       "    }\n",
       "</style>\n",
       "<table border=\"1\" class=\"dataframe\">\n",
       "  <thead>\n",
       "    <tr style=\"text-align: right;\">\n",
       "      <th></th>\n",
       "      <th>eval_id</th>\n",
       "      <th>Category</th>\n",
       "      <th>Rating</th>\n",
       "    </tr>\n",
       "  </thead>\n",
       "  <tbody>\n",
       "    <tr>\n",
       "      <th>0</th>\n",
       "      <td>1</td>\n",
       "      <td>competent</td>\n",
       "      <td>6.0</td>\n",
       "    </tr>\n",
       "    <tr>\n",
       "      <th>1</th>\n",
       "      <td>1</td>\n",
       "      <td>thoughtful</td>\n",
       "      <td>6.0</td>\n",
       "    </tr>\n",
       "    <tr>\n",
       "      <th>2</th>\n",
       "      <td>1</td>\n",
       "      <td>intelligent</td>\n",
       "      <td>6.0</td>\n",
       "    </tr>\n",
       "    <tr>\n",
       "      <th>3</th>\n",
       "      <td>1</td>\n",
       "      <td>impression</td>\n",
       "      <td>7.0</td>\n",
       "    </tr>\n",
       "    <tr>\n",
       "      <th>4</th>\n",
       "      <td>1</td>\n",
       "      <td>hire</td>\n",
       "      <td>6.0</td>\n",
       "    </tr>\n",
       "  </tbody>\n",
       "</table>\n",
       "</div>"
      ],
      "text/plain": [
       "   eval_id     Category  Rating\n",
       "0        1    competent     6.0\n",
       "1        1   thoughtful     6.0\n",
       "2        1  intelligent     6.0\n",
       "3        1   impression     7.0\n",
       "4        1         hire     6.0"
      ]
     },
     "execution_count": 92,
     "metadata": {},
     "output_type": "execute_result"
    }
   ],
   "source": [
    "# Load ratings data\n",
    "df_ratings = pd.read_csv('ratings.csv')\n",
    "df_ratings.head()"
   ]
  },
  {
   "cell_type": "code",
   "execution_count": 93,
   "metadata": {
    "id": "5dxtVUSMBZwf"
   },
   "outputs": [
    {
     "data": {
      "text/html": [
       "<div>\n",
       "<style scoped>\n",
       "    .dataframe tbody tr th:only-of-type {\n",
       "        vertical-align: middle;\n",
       "    }\n",
       "\n",
       "    .dataframe tbody tr th {\n",
       "        vertical-align: top;\n",
       "    }\n",
       "\n",
       "    .dataframe thead th {\n",
       "        text-align: right;\n",
       "    }\n",
       "</style>\n",
       "<table border=\"1\" class=\"dataframe\">\n",
       "  <thead>\n",
       "    <tr style=\"text-align: right;\">\n",
       "      <th></th>\n",
       "      <th>eval_id</th>\n",
       "      <th>Rating</th>\n",
       "      <th>Category</th>\n",
       "      <th>condition</th>\n",
       "    </tr>\n",
       "  </thead>\n",
       "  <tbody>\n",
       "    <tr>\n",
       "      <th>0</th>\n",
       "      <td>1</td>\n",
       "      <td>6.000000</td>\n",
       "      <td>hire</td>\n",
       "      <td>listened</td>\n",
       "    </tr>\n",
       "    <tr>\n",
       "      <th>1</th>\n",
       "      <td>1</td>\n",
       "      <td>7.000000</td>\n",
       "      <td>impression</td>\n",
       "      <td>listened</td>\n",
       "    </tr>\n",
       "    <tr>\n",
       "      <th>2</th>\n",
       "      <td>1</td>\n",
       "      <td>6.000000</td>\n",
       "      <td>intellect</td>\n",
       "      <td>listened</td>\n",
       "    </tr>\n",
       "    <tr>\n",
       "      <th>3</th>\n",
       "      <td>2</td>\n",
       "      <td>4.000000</td>\n",
       "      <td>hire</td>\n",
       "      <td>listened</td>\n",
       "    </tr>\n",
       "    <tr>\n",
       "      <th>4</th>\n",
       "      <td>2</td>\n",
       "      <td>4.666667</td>\n",
       "      <td>impression</td>\n",
       "      <td>listened</td>\n",
       "    </tr>\n",
       "  </tbody>\n",
       "</table>\n",
       "</div>"
      ],
      "text/plain": [
       "   eval_id    Rating    Category condition\n",
       "0        1  6.000000        hire  listened\n",
       "1        1  7.000000  impression  listened\n",
       "2        1  6.000000   intellect  listened\n",
       "3        2  4.000000        hire  listened\n",
       "4        2  4.666667  impression  listened"
      ]
     },
     "execution_count": 93,
     "metadata": {},
     "output_type": "execute_result"
    }
   ],
   "source": [
    "# Q5 (code):\n",
    "# Filter the ratings DataFrame to include only 'thoughtful', 'competent', and 'intelligent' categories\n",
    "# Source for \".isin()\": https://stackoverflow.com/questions/17071871/how-do-i-select-rows-from-a-dataframe-based-on-column-values/17071908#17071908\n",
    "filtered_ratings = df_ratings[df_ratings['Category'].isin(['thoughtful', 'competent', 'intelligent'])]\n",
    "\n",
    "# Calculate the mean intellect rating for each evaluator\n",
    "grouped_ratings = filtered_ratings.groupby('eval_id')['Rating']\n",
    "mean_ratings = grouped_ratings.mean()\n",
    "\n",
    "# Group by 'eval_id' and calculate mean, then reset the index to convert groupby object back to DataFrame\n",
    "# Source for \".reset_index(drop = True)\": https://stackoverflow.com/questions/29576430/shuffle-dataframe-rows/34879805#34879805\n",
    "mean_intellect_ratings = mean_ratings.reset_index()\n",
    "\n",
    "# Add a 'Category' column with the value 'intellect' for these rows\n",
    "mean_intellect_ratings['Category'] = 'intellect'\n",
    "\n",
    "# Create a DataFrame for 'impression' and 'hire' ratings\n",
    "other_ratings = df_ratings[df_ratings['Category'].isin(['impression', 'hire'])]\n",
    "\n",
    "# Combine the DataFrames to create 'ratings2'\n",
    "# Concatenate the 'intellect_mean' DataFrame with the 'other_ratings' DataFrame\n",
    "# Source for \"pd.concat()\": https://stackoverflow.com/questions/20906474/import-multiple-csv-files-into-pandas-and-concatenate-into-one-dataframe/21232849#21232849\n",
    "ratings2 = pd.concat([mean_intellect_ratings, other_ratings], ignore_index=True)\n",
    "\n",
    "# Join 'ratings2' with the 'df_evaluators' DataFrame to add the 'condition' column\n",
    "# Source for \"df.merge()\": https://stackoverflow.com/questions/19960077/how-to-filter-pandas-dataframe-using-in-and-not-in-like-in-sql\n",
    "ratings2 = ratings2.merge(df_evaluators[['eval_id', 'condition']], on='eval_id', how='left')\n",
    "\n",
    "# Select only the necessary columns as per the structure required\n",
    "ratings2 = ratings2[['eval_id', 'Rating', 'Category', 'condition']]\n",
    "\n",
    "# Arrange by 'eval_id' and 'Category'\n",
    "ratings2 = ratings2.sort_values(by=['eval_id', 'Category']).reset_index(drop=True)\n",
    "\n",
    "# Display the first few rows of the final 'ratings2' DataFrame to verify\n",
    "ratings2.head()"
   ]
  },
  {
   "cell_type": "markdown",
   "metadata": {
    "id": "fOmtKCzEpoOa"
   },
   "source": [
    "### Step 3: Perform descriptive and inferential statistical analyses, including testing assumptions and conducting independent t-tests.\n",
    "\n",
    "We are going to run the t-tests for Intellect, Hire and Impression; each time comparing evaluators overall ratings for the listened group versus overall ratings for the read group to see if there was a significant difference between the two conditions: i.e., did the evaluators who listened to pitches give a significant higher or lower rating than evaluators that read pitches?\n",
    "\n",
    "**Question 6**:\n",
    "\n",
    "a. In terms of hypotheses, how can we phrase the hypothesis?\n",
    "\n",
    "b. Which t-test should we choose, one-tail or two-tail? And explian why.\n",
    "\n",
    "c. What are the independent variable and the dependent variable here?\n",
    "\n"
   ]
  },
  {
   "cell_type": "code",
   "execution_count": null,
   "metadata": {
    "id": "duti45rG22eS"
   },
   "outputs": [],
   "source": [
    "# Q6a (answer in words):\n",
    "# Null hypothesis: \n",
    "There is no significant difference between overall ratings on the {intellect, hire, impression} scale \n",
    "between evaluators who listened to resume pitches and evaluators who read the resume pitches (H0:μ1=μ2). \n",
    "\n",
    "# Alternative hypothesis:\n",
    "Alternatively, we could state it as there will be a significant difference \n",
    "between overall ratings on the {intellect, hire, impression} scale \n",
    "between evaluators who listened to resume pitches and evaluators who read the resume pitches (H1:μ1≠μ2)."
   ]
  },
  {
   "cell_type": "code",
   "execution_count": null,
   "metadata": {
    "id": "EkoM_0js3fyS"
   },
   "outputs": [],
   "source": [
    "# Q6b (answer in words):\n",
    "# Which t-test should we choose, one-tail or two-tail? Explian why.\n",
    "TWO-tail.\n",
    "Because we are uncertain whether evaluators listening to the \n",
    "presentations will rate them higher or lower compared to those reading them."
   ]
  },
  {
   "cell_type": "code",
   "execution_count": null,
   "metadata": {
    "id": "073zOlIsI5ws"
   },
   "outputs": [],
   "source": [
    "# Q6c (answer in words):\n",
    "# What are the independent variable and the dependent variable here?\n",
    "IV: condition\n",
    "DV: Rating"
   ]
  },
  {
   "cell_type": "markdown",
   "metadata": {
    "id": "4g-SpuDX23iL"
   },
   "source": [
    "\n",
    "To clarify, we are going to run three between-subjects t-tests in total; one for intellect ratings; one for hire ratings; one for impression ratings.\n",
    "\n",
    "**Instructions:**\n",
    "\n",
    "1. Descriptive analysis of the ratings.\n",
    "\n",
    "2. Test for normal distribution (Shapiro-Wilk test) and homogeneity of variances (Levene's test) for the intellect, impression, and hire ratings.\n",
    "\n",
    "3. Conduct independent t-tests comparing intellect, impression, and hire ratings between conditions (listened vs. read).\n",
    "\n",
    "Hints: three T-tests need to be performed.\n",
    "\n",
    "**Question 7**:\n",
    "\n",
    "a: Print the test results.\n",
    "\n",
    "b: Interpret the results of the above descriptive statistics, Shapiro-Wilk test, Levene's test, and independent t-tests. Explian why we use these tests and how we made our decisions based on the test result."
   ]
  },
  {
   "cell_type": "code",
   "execution_count": 95,
   "metadata": {
    "id": "QD3ZZRrAq4Gc"
   },
   "outputs": [
    {
     "data": {
      "text/plain": [
       "count    117.000000\n",
       "mean       4.561254\n",
       "std        2.240198\n",
       "min        0.000000\n",
       "25%        3.000000\n",
       "50%        4.666667\n",
       "75%        6.000000\n",
       "max        9.000000\n",
       "Name: Rating, dtype: float64"
      ]
     },
     "execution_count": 95,
     "metadata": {},
     "output_type": "execute_result"
    }
   ],
   "source": [
    "##Q7a (code):\n",
    "from scipy.stats import shapiro, levene, ttest_ind # used for performing Shapiro-Wilk test, levene' test, and t-test  \n",
    "\n",
    "# Descriptive analysis of the ratings\n",
    "ratings_desc = ratings2['Rating'].describe()\n",
    "ratings_desc"
   ]
  },
  {
   "cell_type": "code",
   "execution_count": 101,
   "metadata": {},
   "outputs": [
    {
     "name": "stdout",
     "output_type": "stream",
     "text": [
      "Shapiro-Wilk test for listened_hire:\n",
      "Test Statistic = 0.939, p-value = 0.209\n",
      "Failed to reject H0 (data appears to be normally distributed)\n",
      "\n",
      "\n",
      "Shapiro-Wilk test for listened_impression:\n",
      "Test Statistic = 0.939, p-value = 0.213\n",
      "Failed to reject H0 (data appears to be normally distributed)\n",
      "\n",
      "\n",
      "Shapiro-Wilk test for listened_intellect:\n",
      "Test Statistic = 0.935, p-value = 0.174\n",
      "Failed to reject H0 (data appears to be normally distributed)\n",
      "\n",
      "\n",
      "Shapiro-Wilk test for read_hire:\n",
      "Test Statistic = 0.903, p-value = 0.066\n",
      "Failed to reject H0 (data appears to be normally distributed)\n",
      "\n",
      "\n",
      "Shapiro-Wilk test for read_impression:\n",
      "Test Statistic = 0.948, p-value = 0.400\n",
      "Failed to reject H0 (data appears to be normally distributed)\n",
      "\n",
      "\n",
      "Shapiro-Wilk test for read_intellect:\n",
      "Test Statistic = 0.951, p-value = 0.445\n",
      "Failed to reject H0 (data appears to be normally distributed)\n",
      "\n",
      "\n"
     ]
    }
   ],
   "source": [
    "# Test for normal distribution (Shapiro-Wilk test)\n",
    "\n",
    "# H0: The sample data is normally distributed.\n",
    "\n",
    "# Create an empty dictionary to store results of Shapiro-Wilk test\n",
    "shapiro_results = {}\n",
    "\n",
    "# Define the conditions (listened or read) and rating categories (Hire, Impression, Intellect)\n",
    "conditions = ['listened', 'read']\n",
    "categories = ['hire', 'impression', 'intellect']\n",
    "\n",
    "# Loop through each combination of condition and category\n",
    "for condition in conditions:\n",
    "    for category in categories:\n",
    "        # Construct the combined name, e.g., 'listened_hire'\n",
    "        combined_category = f'{condition}_{category}'\n",
    "        print(f'Shapiro-Wilk test for {combined_category}:')\n",
    "\n",
    "        # Filter out the data for the current condition and rating category from the DataFrame\n",
    "        category_data = ratings2[(ratings2['condition'] == condition) & (ratings2['Category'] == category)]['Rating']\n",
    "\n",
    "        # Perform the Shapiro-Wilk normality test\n",
    "        stat, p = shapiro(category_data)\n",
    "\n",
    "        # Store the test statistic and p-value\n",
    "        shapiro_results[combined_category] = {'Statistic': stat, 'p-value': p}\n",
    "\n",
    "        # Print out the test statistic and p-value, rounded to three decimal places\n",
    "        print(f'Test Statistic = {stat:.3f}, p-value = {p:.3f}')\n",
    "\n",
    "        # Interpret the p-value\n",
    "        if p > 0.05:\n",
    "            print('Failed to reject H0 (data appears to be normally distributed)')\n",
    "        else:\n",
    "            print('Rejected H0 (data does not appear to be normally distributed)')\n",
    "\n",
    "        # Print an empty line for better readability of the results\n",
    "        print('\\n')"
   ]
  },
  {
   "cell_type": "markdown",
   "metadata": {},
   "source": [
    "The results of the Shapiro-Wilk test indicate all the data are normally distributed, so Levene's Test is employed to check if variances across different conditions in the rating data are equal."
   ]
  },
  {
   "cell_type": "code",
   "execution_count": 98,
   "metadata": {},
   "outputs": [
    {
     "name": "stdout",
     "output_type": "stream",
     "text": [
      "Levene's test for hire:\n",
      "Test Statistic = 0.107, p-value = 0.746\n",
      "Failed to reject H0 (equal variances assumed)\n",
      "\n",
      "\n",
      "Levene's test for impression:\n",
      "Test Statistic = 0.390, p-value = 0.536\n",
      "Failed to reject H0 (equal variances assumed)\n",
      "\n",
      "\n",
      "Levene's test for intellect:\n",
      "Test Statistic = 0.898, p-value = 0.349\n",
      "Failed to reject H0 (equal variances assumed)\n",
      "\n",
      "\n"
     ]
    }
   ],
   "source": [
    "# Test for homogeneity of variances (Levene's test)\n",
    "\n",
    "# H0: The group variances are equal across samples.\n",
    "\n",
    "# Create an empty dictionary to store the results\n",
    "levene_results = {}\n",
    "\n",
    "# Loop through each rating category\n",
    "for category in categories:\n",
    "    # Extract the ratings data for 'listened' and 'read' conditions\n",
    "    listened_data = ratings2[(ratings2['condition'] == 'listened') & (ratings2['Category'] == category)]['Rating']\n",
    "    read_data = ratings2[(ratings2['condition'] == 'read') & (ratings2['Category'] == category)]['Rating']\n",
    "    \n",
    "    # Perform the Levene's Test\n",
    "    stat, p = levene(listened_data, read_data)\n",
    "\n",
    "    # Store the test statistic and p-value\n",
    "    levene_results[category] = {'Statistic': stat, 'p-value': p}\n",
    "\n",
    "    # Output the results, rounded to three decimal places \n",
    "    print(f\"Levene's test for {category}:\")\n",
    "    print(f'Test Statistic = {stat:.3f}, p-value = {p:.3f}')\n",
    "\n",
    "    # Interpret the p-value\n",
    "    if p > 0.05:\n",
    "        print('Failed to reject H0 (equal variances assumed)')\n",
    "    else:\n",
    "        print('Rejected H0 (equal variances not assumed)')\n",
    "\n",
    "    # Print an empty line for better readability of the results\n",
    "    print('\\n')"
   ]
  },
  {
   "cell_type": "markdown",
   "metadata": {},
   "source": [
    "Given that both the Shapiro-Wilk tests and Levene's tests have failed to reject their respective null hypotheses, it's indicated that the data is normally distributed and the variances are equal across the two conditions being compared. Consequently, the independent samples t-test can be proceeded."
   ]
  },
  {
   "cell_type": "code",
   "execution_count": 100,
   "metadata": {},
   "outputs": [
    {
     "name": "stdout",
     "output_type": "stream",
     "text": [
      "Independent t-test for hire:\n",
      "t-Statistic: 2.620, p-value: 0.013\n",
      "Rejected H0\n",
      "\n",
      "Independent t-test for impression:\n",
      "t-Statistic: 2.851, p-value: 0.007\n",
      "Rejected H0\n",
      "\n",
      "Independent t-test for intellect:\n",
      "t-Statistic: 3.526, p-value: 0.001\n",
      "Rejected H0\n",
      "\n"
     ]
    }
   ],
   "source": [
    "# Independent T-Test\n",
    "\n",
    "# Impression - H0: There is no significant difference in 'impression' ratings between the 'listened' and 'read' conditions.\n",
    "# Intellect - H0: There is no significant difference in 'intellect' ratings between the 'listened' and 'read' conditions.\n",
    "# Hire - H0: There is no significant difference in 'hire' ratings between the 'listened' and 'read' conditions.\n",
    "\n",
    "# Loop through each rating category already defined in categories\n",
    "for category in categories:\n",
    "    \n",
    "    # Extract the ratings data for 'listened' and 'read' conditions\n",
    "    listened_data = ratings2[(ratings2['condition'] == 'listened') & (ratings2['Category'] == category)]['Rating']\n",
    "    read_data = ratings2[(ratings2['condition'] == 'read') & (ratings2['Category'] == category)]['Rating']\n",
    "    \n",
    "    # Perform the independent samples t-test\n",
    "    t_stat, p_val = ttest_ind(listened_data, read_data, equal_var=True)\n",
    "    \n",
    "    # Print the category being tested and the results\n",
    "    print(f'Independent t-test for {category}:')\n",
    "    print(f't-Statistic: {t_stat:.3f}, p-value: {p_val:.3f}')\n",
    "\n",
    "    # Interpretation based on p-value\n",
    "    if p_val > 0.05:\n",
    "        print('Failed to reject H0')\n",
    "    else:\n",
    "        print('Rejected H0\\n')"
   ]
  },
  {
   "cell_type": "markdown",
   "metadata": {
    "id": "aifm_T8UQwYm"
   },
   "source": [
    "### Q7b (answer in words):\n",
    "**Descriptive Statistics**\n",
    "\n",
    "In the descriptive analysis of the 'Rating' column in the Ratings2 dataframe, it is observed that there are a total of 117 samples with an average rating of 4.56 and a standard deviation of 2.24. The minimum rating is 0, and the maximum rating is 9. Approximately 25% of the ratings are below 3, 50% are below 4.667, and 75% are below 6, indicating a moderately high distribution of ratings.\n",
    "\n",
    "\n",
    "**Shapiro-Wilk Test**\n",
    "\n",
    "*H0: The sample data is normally distributed.*\n",
    "\n",
    "The Shapiro-Wilk test is a prerequisite for conducting the t-test, as the data must be normally distributed for the t-test to be valid. Below are the results and interpretations of the Shapiro-Wilk test for the three rating categories:\n",
    "\n",
    "| Variable            | Result          | Interpretation                           |\n",
    "|---------------------|-----------------|------------------------------------------|\n",
    "| listened_hire       | Test Statistic = 0.939, p-value = 0.209 > 0.05, Failed to reject H0| normally distributed|\n",
    "| listened_impression | Test Statistic = 0.939, p-value = 0.213 > 0.05, Failed to reject H0| normally distributed|\n",
    "| listened_intellect  | Test Statistic = 0.935, p-value = 0.174 > 0.05, Failed to reject H0| normally distributed|\n",
    "| read_hire           | Test Statistic = 0.903, p-value = 0.066 > 0.05, Failed to reject H0| normally distributed|\n",
    "| read_impression     | Test Statistic = 0.948, p-value = 0.400 > 0.05, Failed to reject H0| normally distributed|\n",
    "| read_intellect      | Test Statistic = 0.951, p-value = 0.445 > 0.05, Failed to reject H0| normally distributed|\n",
    "\n",
    "\n",
    "The results of the Shapiro-Wilk test indicate the variables are normally distributed, so Levene's Test is employed to check if variances across different conditions in the rating data are equal.\n",
    "\n",
    "**Levene's Test**\n",
    "\n",
    "*H0: The group variances are equal across samples.*\n",
    "\n",
    "Levene's test is another condition for conducting the t-test, as the variances of the two groups must be equal for the t-test to proceed. Below are the results and conclusions of Levene's test:\n",
    "\n",
    "| Variable            | Result                                    | Interpretation                             |\n",
    "|---------------------|-------------------------------------------|--------------------------------------------|\n",
    "| hire                | Test Statistic = 0.107, p-value = 0.746 > 0.05, Failed to reject H0| equal variances|\n",
    "| impression          | Test Statistic = 0.390, p-value = 0.536 > 0.05, Failed to reject H0| equal variances|\n",
    "| intellect           | Test Statistic = 0.898, p-value = 0.349 > 0.05, Failed to reject H0| equal variances|\n",
    "\n",
    "\n",
    "Given that both the Shapiro-Wilk tests and Levene's tests have failed to reject their respective null hypotheses, it's indicated that the data is normally distributed and the variances are equal across the two conditions being compared. Consequently, the independent samples t-test can be proceeded.\n",
    "\n",
    "**Independent T-Tests**\n",
    "\n",
    "- *Impression - H0: There is no significant difference in \"impression\" ratings between the \"listened\" and \"read\" conditions.*\n",
    "- *Intellect - H0: There is no significant difference in \"intellect\" ratings between the \"listened\" and \"read\" conditions.*\n",
    "- *Hire - H0: There is no significant difference in \"hire\" ratings between the \"listened\" and \"read\" conditions.*\n",
    "\n",
    "| Variable            | Result                              | Interpretation                    |\n",
    "|---------------------|-------------------------------------|-----------------------------------|\n",
    "| hire                | t-Statistic: 2.620, p-value: 0.013 < 0.05, Rejected H0| There is a significant difference between ratings given under listened and read conditions.                       |\n",
    "| impression          | t-Statistic: 2.851, p-value: 0.007 < 0.05, Rejected H0 | There is a significant difference between ratings given under listened and read conditions.                      |\n",
    "| intellect           | t-Statistic: 3.526, p-value: 0.001 < 0.05, Rejected H0 | There is a significant difference between ratings given under listened and read conditions.                      |\n",
    "\n",
    "\n",
    "\n",
    "**Conclusion**\n",
    "\n",
    "Through t-tests on the ratings of 'impression', 'intellect', and 'hire' under different conditions (listened and read), it emerges that evaluators' scoring is influenced by the way they receive information—either by listening or reading. This finding is significant for job seekers to improve their resumes and profound for employers to  establish uniform standards for evaluation, thus fostering a fair assessment process."
   ]
  }
 ],
 "metadata": {
  "colab": {
   "provenance": []
  },
  "kernelspec": {
   "display_name": "Python 3 (ipykernel)",
   "language": "python",
   "name": "python3"
  },
  "language_info": {
   "codemirror_mode": {
    "name": "ipython",
    "version": 3
   },
   "file_extension": ".py",
   "mimetype": "text/x-python",
   "name": "python",
   "nbconvert_exporter": "python",
   "pygments_lexer": "ipython3",
   "version": "3.11.5"
  }
 },
 "nbformat": 4,
 "nbformat_minor": 1
}
